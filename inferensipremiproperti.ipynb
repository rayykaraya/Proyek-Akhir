{
 "cells": [
  {
   "cell_type": "code",
   "execution_count": 1,
   "id": "7596a174",
   "metadata": {},
   "outputs": [],
   "source": [
    "import numpy as np\n",
    "import pandas as pd\n",
    "from tensorflow.keras.models import load_model\n",
    "import joblib\n",
    "\n",
    "# Load model dan scaler\n",
    "model = load_model(\"ModelPremiProperti.h5\", compile=False)\n",
    "scaler_X = joblib.load(\"scaler_Properti_X.pkl\")\n",
    "scaler_y_reg = joblib.load(\"scaler_properti_Y.pkl\")\n",
    "\n",
    "# Daftar kolom fitur sesuai training (urut dan nama harus sama)\n",
    "kolom_fitur = [\n",
    "    'Perlindungan Isi Rumah',\n",
    "    'Alarm Terpasang',\n",
    "    'Risiko Banjir',\n",
    "    'Keanggotaan Keamanan Lingkungan',\n",
    "    'Jenis Kepemilikan Properti',\n",
    "    'Tipe Properti',\n",
    "    'Risiko Penurunan Tanah',\n",
    "    'Tahun Dibangun'\n",
    "]\n",
    "\n",
    "def prediksi_premi_risiko_properti(data_dict):\n",
    "    # Buat DataFrame dari dict input\n",
    "    input_df = pd.DataFrame([data_dict])\n",
    "    \n",
    "    # Pastikan hanya kolom fitur yg digunakan\n",
    "    input_df = input_df[kolom_fitur]\n",
    "    \n",
    "    # Scaling fitur input\n",
    "    X_scaled = scaler_X.transform(input_df)\n",
    "    \n",
    "    # Prediksi model (output: [risk_pred, premium_pred])\n",
    "    risk_pred, premium_pred = model.predict(X_scaled)\n",
    "    \n",
    "    # Ambil kelas risiko (index probabilitas tertinggi)\n",
    "    kelas_risiko = np.argmax(risk_pred, axis=1)[0]\n",
    "    \n",
    "    # Inverse transform hasil regresi premi ke skala asli\n",
    "    premi_pred = scaler_y_reg.inverse_transform(premium_pred)[0][0]\n",
    "    \n",
    "    # Bulatkan premi dan konversi ke integer\n",
    "    premi_pred = int(round(premi_pred))\n",
    "    \n",
    "    return kelas_risiko, premi_pred"
   ]
  },
  {
   "cell_type": "code",
   "execution_count": 3,
   "id": "acd7fbd2",
   "metadata": {},
   "outputs": [
    {
     "name": "stdout",
     "output_type": "stream",
     "text": [
      "\u001b[1m1/1\u001b[0m \u001b[32m━━━━━━━━━━━━━━━━━━━━\u001b[0m\u001b[37m\u001b[0m \u001b[1m0s\u001b[0m 46ms/step\n",
      "Kelas Risiko Prediksi: 1\n",
      "Premi Prediksi: 2980570\n"
     ]
    },
    {
     "name": "stderr",
     "output_type": "stream",
     "text": [
      "c:\\Users\\T480\\Documents\\CAPSTONE\\fixenv\\Lib\\site-packages\\sklearn\\utils\\validation.py:2732: UserWarning: X has feature names, but StandardScaler was fitted without feature names\n",
      "  warnings.warn(\n"
     ]
    }
   ],
   "source": [
    "# Contoh penggunaan inferensi\n",
    "sample_input_properti = {\n",
    "    'Perlindungan Isi Rumah': 1,\n",
    "    'Alarm Terpasang': 0,\n",
    "    'Risiko Banjir': 1,\n",
    "    'Keanggotaan Keamanan Lingkungan': 0,\n",
    "    'Jenis Kepemilikan Properti': 1.0,\n",
    "    'Tipe Properti': 1.0,\n",
    "    'Risiko Penurunan Tanah': 0,\n",
    "    'Tahun Dibangun': 1960.0\n",
    "}\n",
    "\n",
    "kelas, premi = prediksi_premi_risiko_properti(sample_input_properti)\n",
    "print(f\"Kelas Risiko Prediksi: {kelas}\")\n",
    "print(f\"Premi Prediksi:\", premi)\n"
   ]
  }
 ],
 "metadata": {
  "kernelspec": {
   "display_name": "fixenv",
   "language": "python",
   "name": "python3"
  },
  "language_info": {
   "codemirror_mode": {
    "name": "ipython",
    "version": 3
   },
   "file_extension": ".py",
   "mimetype": "text/x-python",
   "name": "python",
   "nbconvert_exporter": "python",
   "pygments_lexer": "ipython3",
   "version": "3.11.0"
  }
 },
 "nbformat": 4,
 "nbformat_minor": 5
}
