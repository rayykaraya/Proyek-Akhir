{
 "cells": [
  {
   "cell_type": "code",
   "execution_count": 18,
   "id": "88796c47",
   "metadata": {},
   "outputs": [],
   "source": [
    "import pandas as pd\n",
    "import numpy as np\n",
    "from tensorflow.keras.models import load_model\n",
    "import joblib\n",
    "\n",
    "# Load model dan scaler (cukup dilakukan sekali di awal)\n",
    "model = load_model('ModelPremiKendaraan.h5', compile=False)\n",
    "scaler_X = joblib.load('scaler_Kendaraan_X.pkl')\n",
    "scaler_Y = joblib.load('scaler_Kendaraan_Y.pkl')\n",
    "\n",
    "# Kolom fitur input sesuai urutan yang dipakai waktu training\n",
    "kolom_fitur = [\n",
    "    'Saluran Distribusi', 'Lama Menjadi Pelanggan', 'Metode Pembayaran', 'Wilayah', 'Pengemudi Kedua',\n",
    "    'Tahun Pendaftaran Kendaraan', 'Daya Mesin', 'Kapasitas Silinder', 'Nilai Kendaraan', 'Jumlah Pintu',\n",
    "    'Jenis Bahan Bakar', 'Berat Kendaraan', 'Usia'\n",
    "]\n",
    "\n",
    "def prediksi_premi_risiko(data_dict):\n",
    "    # Buat DataFrame 1 baris dari dict input\n",
    "    input_df = pd.DataFrame([data_dict])\n",
    "    \n",
    "    # Pilih hanya kolom fitur (tanpa target)\n",
    "    input_df = input_df[kolom_fitur]\n",
    "    \n",
    "    # Scaling fitur input\n",
    "    X_scaled = scaler_X.transform(input_df)\n",
    "    \n",
    "    # Prediksi\n",
    "    y_pred = model.predict(X_scaled)\n",
    "    \n",
    "    kelas_risiko = np.argmax(y_pred[0], axis=1)[0]\n",
    "    premi_scaled = y_pred[1]\n",
    "    premi = scaler_Y.inverse_transform(premi_scaled).flatten()[0]\n",
    "    \n",
    "    return kelas_risiko, float(premi)\n",
    "\n"
   ]
  },
  {
   "cell_type": "code",
   "execution_count": 19,
   "id": "e3f41a2f",
   "metadata": {},
   "outputs": [
    {
     "name": "stdout",
     "output_type": "stream",
     "text": [
      "WARNING:tensorflow:5 out of the last 5 calls to <function TensorFlowTrainer.make_predict_function.<locals>.one_step_on_data_distributed at 0x0000018E39633920> triggered tf.function retracing. Tracing is expensive and the excessive number of tracings could be due to (1) creating @tf.function repeatedly in a loop, (2) passing tensors with different shapes, (3) passing Python objects instead of tensors. For (1), please define your @tf.function outside of the loop. For (2), @tf.function has reduce_retracing=True option that can avoid unnecessary retracing. For (3), please refer to https://www.tensorflow.org/guide/function#controlling_retracing and https://www.tensorflow.org/api_docs/python/tf/function for  more details.\n"
     ]
    },
    {
     "name": "stderr",
     "output_type": "stream",
     "text": [
      "WARNING:tensorflow:5 out of the last 5 calls to <function TensorFlowTrainer.make_predict_function.<locals>.one_step_on_data_distributed at 0x0000018E39633920> triggered tf.function retracing. Tracing is expensive and the excessive number of tracings could be due to (1) creating @tf.function repeatedly in a loop, (2) passing tensors with different shapes, (3) passing Python objects instead of tensors. For (1), please define your @tf.function outside of the loop. For (2), @tf.function has reduce_retracing=True option that can avoid unnecessary retracing. For (3), please refer to https://www.tensorflow.org/guide/function#controlling_retracing and https://www.tensorflow.org/api_docs/python/tf/function for  more details.\n"
     ]
    },
    {
     "name": "stdout",
     "output_type": "stream",
     "text": [
      "\u001b[1m1/1\u001b[0m \u001b[32m━━━━━━━━━━━━━━━━━━━━\u001b[0m\u001b[37m\u001b[0m \u001b[1m0s\u001b[0m 73ms/step\n",
      "Kelas Risiko Prediksi: 0\n",
      "Premi Prediksi: 2177260.0\n"
     ]
    }
   ],
   "source": [
    "sample_data = {\n",
    "    'Saluran Distribusi': 0.0,\n",
    "    'Lama Menjadi Pelanggan': 4,\n",
    "    'Metode Pembayaran': 0,\n",
    "    'Wilayah': 0,\n",
    "    'Pengemudi Kedua': 0,\n",
    "    'Tahun Pendaftaran Kendaraan': 2004,\n",
    "    'Daya Mesin': 80,\n",
    "    'Kapasitas Silinder': 599,\n",
    "    'Nilai Kendaraan': 7068.00,\n",
    "    'Jumlah Pintu': 0,\n",
    "    'Jenis Bahan Bakar': 1.0,\n",
    "    'Berat Kendaraan': 190,\n",
    "    'Usia': 69\n",
    "}\n",
    "\n",
    "kelas_risiko, prediksi_premi = prediksi_premi_risiko(sample_data)\n",
    "print(\"Kelas Risiko Prediksi:\", kelas_risiko)\n",
    "print(\"Premi Prediksi:\", prediksi_premi)\n"
   ]
  }
 ],
 "metadata": {
  "kernelspec": {
   "display_name": "fixenv",
   "language": "python",
   "name": "python3"
  },
  "language_info": {
   "codemirror_mode": {
    "name": "ipython",
    "version": 3
   },
   "file_extension": ".py",
   "mimetype": "text/x-python",
   "name": "python",
   "nbconvert_exporter": "python",
   "pygments_lexer": "ipython3",
   "version": "3.11.0"
  }
 },
 "nbformat": 4,
 "nbformat_minor": 5
}
