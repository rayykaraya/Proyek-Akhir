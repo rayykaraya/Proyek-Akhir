{
 "cells": [
  {
   "cell_type": "code",
   "execution_count": 2,
   "id": "cb65d3c0",
   "metadata": {},
   "outputs": [],
   "source": [
    "import numpy as np\n",
    "import pandas as pd\n",
    "from tensorflow.keras.models import load_model\n",
    "import joblib\n",
    "\n",
    "# Load model dan scaler\n",
    "model = load_model(\"ModelPremiKesehatan.h5\", compile=False)\n",
    "scaler_X = joblib.load(\"scaler_Kesehatan_X.pkl\")\n",
    "scaler_y_reg = joblib.load(\"scaler_Kesehatan_Y.pkl\")\n",
    "\n",
    "# Daftar kolom fitur sesuai training (urutan harus sama!)\n",
    "kolom_fitur = [\n",
    "    'Usia',\n",
    "    'Diabetes',\n",
    "    'Masalah Tekanan Darah',\n",
    "    'Riwayat Transplantasi',\n",
    "    'Penyakit Kronis',\n",
    "    'Tinggi Badan cm',\n",
    "    'Berat Badan kg',\n",
    "    'Alergi',\n",
    "    'Riwayat Kanker Keluarga',\n",
    "    'Jumlah Operasi Besar'\n",
    "]\n",
    "\n",
    "def prediksi_premi_risiko(data_dict):\n",
    "    # Buat DataFrame dari dict input\n",
    "    input_df = pd.DataFrame([data_dict])\n",
    "    \n",
    "    # Pastikan hanya ambil kolom fitur yang sesuai urutan training\n",
    "    input_df = input_df[kolom_fitur]\n",
    "    \n",
    "    # Scaling fitur input\n",
    "    X_scaled = scaler_X.transform(input_df)\n",
    "    \n",
    "    # Prediksi model (output list: [risk_pred, premium_pred])\n",
    "    risk_pred, premium_pred = model.predict(X_scaled)\n",
    "    \n",
    "    # Ambil kelas risiko hasil klasifikasi (index probabilitas tertinggi)\n",
    "    kelas_risiko = np.argmax(risk_pred, axis=1)[0]\n",
    "    \n",
    "    # Skala balik hasil regresi premi\n",
    "    premi_pred = scaler_y_reg.inverse_transform(premium_pred)[0][0]\n",
    "    \n",
    "    # Bulatkan premi ke integer\n",
    "    premi_pred = int(round(premi_pred))\n",
    "    \n",
    "    return kelas_risiko, premi_pred"
   ]
  },
  {
   "cell_type": "code",
   "execution_count": 3,
   "id": "401c10a6",
   "metadata": {},
   "outputs": [
    {
     "name": "stderr",
     "output_type": "stream",
     "text": [
      "c:\\Users\\T480\\Documents\\CAPSTONE\\fixenv\\Lib\\site-packages\\sklearn\\utils\\validation.py:2732: UserWarning: X has feature names, but StandardScaler was fitted without feature names\n",
      "  warnings.warn(\n"
     ]
    },
    {
     "name": "stdout",
     "output_type": "stream",
     "text": [
      "\u001b[1m1/1\u001b[0m \u001b[32m━━━━━━━━━━━━━━━━━━━━\u001b[0m\u001b[37m\u001b[0m \u001b[1m1s\u001b[0m 822ms/step\n",
      "Kelas Risiko Prediksi: 0\n",
      "Premi Prediksi: Rp 285.103\n"
     ]
    }
   ],
   "source": [
    "# Contoh penggunaan inferensi\n",
    "sample_input = {\n",
    "    'Usia': 45,\n",
    "    'Diabetes': 0,\n",
    "    'Masalah Tekanan Darah': 0,\n",
    "    'Riwayat Transplantasi': 0,\n",
    "    'Penyakit Kronis': 0,\n",
    "    'Tinggi Badan cm': 155,\n",
    "    'Berat Badan kg': 57,\n",
    "    'Alergi': 0,\n",
    "    'Riwayat Kanker Keluarga': 0,\n",
    "    'Jumlah Operasi Besar': 0\n",
    "}\n",
    "\n",
    "kelas, premi = prediksi_premi_risiko(sample_input)\n",
    "print(f\"Kelas Risiko Prediksi: {kelas}\")\n",
    "print(f\"Premi Prediksi: Rp {premi:,}\".replace(\",\", \".\"))"
   ]
  }
 ],
 "metadata": {
  "kernelspec": {
   "display_name": "fixenv",
   "language": "python",
   "name": "python3"
  },
  "language_info": {
   "codemirror_mode": {
    "name": "ipython",
    "version": 3
   },
   "file_extension": ".py",
   "mimetype": "text/x-python",
   "name": "python",
   "nbconvert_exporter": "python",
   "pygments_lexer": "ipython3",
   "version": "3.11.0"
  }
 },
 "nbformat": 4,
 "nbformat_minor": 5
}
